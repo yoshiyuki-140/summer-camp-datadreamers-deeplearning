{
 "cells": [
  {
   "cell_type": "markdown",
   "metadata": {},
   "source": [
    "# リストの復習"
   ]
  },
  {
   "cell_type": "code",
   "execution_count": 5,
   "metadata": {},
   "outputs": [
    {
     "name": "stdout",
     "output_type": "stream",
     "text": [
      "9 6 1 4 0\n",
      "[9, 6, 1, 4, 0]\n",
      "90 60 10 40 0\n",
      "[90, 60, 10, 40, 0]\n"
     ]
    }
   ],
   "source": [
    "# 変数によるデータ格納\n",
    "A = 9\n",
    "B = 6\n",
    "C = 1\n",
    "D = 4\n",
    "E = 0\n",
    "print(A, B, C, D, E)\n",
    "# リストによるデータ格納\n",
    "my_list = [9, 6, 1, 4, 0]\n",
    "print(my_list)\n",
    "# 例えばfor文ですべての変数に10をかけたい時\n",
    "\n",
    "# 変数のデータ構造では以下の通り\n",
    "ten = 10\n",
    "A = 9 * ten\n",
    "B = 6 * ten\n",
    "C = 1 * ten\n",
    "D = 4 * ten\n",
    "E = 0 * ten\n",
    "print(A, B, C, D, E)\n",
    "\n",
    "\n",
    "# listのデータ構造では以下の通り\n",
    "for i, tempalture in enumerate(my_list):\n",
    "    my_list[i] = tempalture * 10\n",
    "\n",
    "print(my_list)\n",
    "\n",
    "# 例えばデータの数が100個とかになると、listを使ったほうが効率的"
   ]
  },
  {
   "cell_type": "markdown",
   "metadata": {},
   "source": [
    "# Numpy配列の理解"
   ]
  },
  {
   "cell_type": "code",
   "execution_count": 19,
   "metadata": {},
   "outputs": [
    {
     "name": "stdout",
     "output_type": "stream",
     "text": [
      "[1. 2. 3.]\n",
      "[3. 6. 9.]\n",
      "[-1. -2. -3.]\n",
      "[ 2.  8. 18.]\n",
      "[0.5 0.5 0.5]\n",
      "[[1 2]\n",
      " [3 4]]\n",
      "(2, 2)\n",
      "int64\n",
      "[[ 4  2]\n",
      " [ 3 10]]\n",
      "[[-2  2]\n",
      " [ 3 -2]]\n",
      "[[ 3  0]\n",
      " [ 0 24]]\n",
      "[[10 40]\n",
      " [30 80]]\n",
      "[[51 52]\n",
      " [14 19]\n",
      " [ 0  4]]\n",
      "[51 52]\n",
      "[14 19]\n",
      "[0 4]\n"
     ]
    }
   ],
   "source": [
    "import numpy as np\n",
    "\n",
    "# 配列生成\n",
    "x = np.array([1.0, 2.0, 3.0])\n",
    "print(x)\n",
    "\n",
    "# 算術演算\n",
    "x = np.array([1.0, 2.0, 3.0])\n",
    "y = np.array([2.0, 4.0, 6.0])\n",
    "## 要素ごとの足し算\n",
    "print(x + y)\n",
    "\n",
    "## 引き算\n",
    "print(x - y)\n",
    "## 掛け算\n",
    "print(x * y)\n",
    "## 割り算\n",
    "print(x / y)\n",
    "\n",
    "# N次元配列\n",
    "A = np.array([1.0, 2.0, 3.0])\n",
    "A = np.array([[1, 2], [3, 4]])\n",
    "print(A)\n",
    "print(A.shape)  # 配列の形を出力\n",
    "print(A.dtype)  # 配列内で使われているデータ型を出力\n",
    "\n",
    "B = np.array([[3, 0], [0, 6]])\n",
    "## 演算\n",
    "print(A + B)\n",
    "print(A - B)\n",
    "print(A * B)\n",
    "\n",
    "\n",
    "# ブロードキャスト\n",
    "A = np.array([[1, 2], [3, 4]])\n",
    "B = np.array([10, 20])\n",
    "\n",
    "print(A * B)\n",
    "\n",
    "# 要素へのアクセス\n",
    "X = np.array([[51, 52], [14, 19], [0, 4]])\n",
    "print(X)\n",
    "## 行にアクセス\n",
    "for row in X:\n",
    "    print(row)\n",
    "## 不等号を用いたフィルタリング\n",
    "## flattenを使った1次元配列化"
   ]
  },
  {
   "cell_type": "markdown",
   "metadata": {},
   "source": [
    "# Numpyでの行列演算方法"
   ]
  },
  {
   "cell_type": "code",
   "execution_count": 24,
   "metadata": {},
   "outputs": [
    {
     "name": "stdout",
     "output_type": "stream",
     "text": [
      "[[1 2]\n",
      " [3 4]]\n",
      "[[5 6]\n",
      " [7 8]]\n"
     ]
    },
    {
     "data": {
      "text/plain": [
       "array([[19, 22],\n",
       "       [43, 50]])"
      ]
     },
     "execution_count": 24,
     "metadata": {},
     "output_type": "execute_result"
    }
   ],
   "source": [
    "import numpy\n",
    "\n",
    "A = numpy.array([[1, 2], [3, 4]])  # 行列定義\n",
    "print(A)\n",
    "B = numpy.array([[5, 6], [7, 8]])  # 行列定義\n",
    "print(B)\n",
    "\n",
    "numpy.dot(A, B)  # 行列積"
   ]
  },
  {
   "cell_type": "markdown",
   "metadata": {},
   "source": [
    "# パーセプトロンによる論理回路"
   ]
  },
  {
   "cell_type": "code",
   "execution_count": 29,
   "metadata": {},
   "outputs": [],
   "source": [
    "# テストコード\n",
    "\n",
    "\n",
    "def logic_test(func):\n",
    "    \"\"\"関数を受け取って真理値表を出力する関数\"\"\"\n",
    "    print(f\"{0}|{0}|{func(0,0)}\")\n",
    "    print(f\"{0}|{1}|{func(0,1)}\")\n",
    "    print(f\"{1}|{0}|{func(1,0)}\")\n",
    "    print(f\"{1}|{1}|{func(1,1)}\")"
   ]
  },
  {
   "cell_type": "markdown",
   "metadata": {},
   "source": [
    "### ANDゲート"
   ]
  },
  {
   "cell_type": "code",
   "execution_count": 30,
   "metadata": {},
   "outputs": [
    {
     "name": "stdout",
     "output_type": "stream",
     "text": [
      "0|0|0\n",
      "0|1|0\n",
      "1|0|0\n",
      "1|1|1\n"
     ]
    }
   ],
   "source": [
    "def AND(x1, x2):\n",
    "    w1, w2 = 0.5, 0.5  # 重み\n",
    "    theta = 0.7  # 閾値\n",
    "    y = x1 * w1 + x2 * w2\n",
    "    if y <= theta:\n",
    "        return 0\n",
    "    else:\n",
    "        return 1\n",
    "\n",
    "\n",
    "logic_test(AND)"
   ]
  },
  {
   "cell_type": "code",
   "execution_count": 36,
   "metadata": {},
   "outputs": [
    {
     "name": "stdout",
     "output_type": "stream",
     "text": [
      "0|0|0\n",
      "0|1|0\n",
      "1|0|0\n",
      "1|1|1\n"
     ]
    }
   ],
   "source": [
    "import numpy\n",
    "\n",
    "\n",
    "# バイアス導入後のAND\n",
    "def AND(x1, x2):\n",
    "    x = numpy.array([x1, x2])\n",
    "    w = numpy.array([0.5, 0.5])  # 重み\n",
    "    b = -0.7  # バイアス\n",
    "    y = numpy.sum(x * w) + b\n",
    "    if y <= 0:\n",
    "        return 0\n",
    "    else:\n",
    "        return 1\n",
    "\n",
    "\n",
    "logic_test(AND)"
   ]
  },
  {
   "cell_type": "markdown",
   "metadata": {},
   "source": [
    "### NANDゲート"
   ]
  },
  {
   "cell_type": "code",
   "execution_count": 34,
   "metadata": {},
   "outputs": [
    {
     "name": "stdout",
     "output_type": "stream",
     "text": [
      "0|0|1\n",
      "0|1|1\n",
      "1|0|1\n",
      "1|1|0\n"
     ]
    }
   ],
   "source": [
    "import numpy\n",
    "\n",
    "\n",
    "def NAND(x1, x2):\n",
    "    x = numpy.array([x1, x2])\n",
    "    w = numpy.array([-0.5, -0.5])  # 重み\n",
    "    b = 0.7  # バイアス\n",
    "\n",
    "    y = numpy.sum(w * x) + b\n",
    "\n",
    "    if y <= 0:\n",
    "        return 0\n",
    "    else:\n",
    "        return 1\n",
    "\n",
    "\n",
    "logic_test(NAND)"
   ]
  },
  {
   "cell_type": "markdown",
   "metadata": {},
   "source": [
    "### ORゲート"
   ]
  },
  {
   "cell_type": "code",
   "execution_count": 37,
   "metadata": {},
   "outputs": [
    {
     "name": "stdout",
     "output_type": "stream",
     "text": [
      "0|0|0\n",
      "0|1|1\n",
      "1|0|1\n",
      "1|1|1\n"
     ]
    }
   ],
   "source": [
    "import numpy\n",
    "\n",
    "\n",
    "def OR(x1, x2):\n",
    "    x = numpy.array([x1, x2])\n",
    "    w = numpy.array([0.5, 0.5])  # 重み\n",
    "    b = -0.2  # バイアス\n",
    "    y = numpy.sum(x * w) + b\n",
    "    if y <= 0:\n",
    "        return 0\n",
    "    else:\n",
    "        return 1\n",
    "\n",
    "\n",
    "logic_test(OR)"
   ]
  },
  {
   "cell_type": "markdown",
   "metadata": {},
   "source": [
    "### ORゲートの視覚表現"
   ]
  },
  {
   "cell_type": "code",
   "execution_count": 66,
   "metadata": {},
   "outputs": [
    {
     "data": {
      "image/png": "[encoded data removed]",
      "text/plain": [
       "<Figure size 640x480 with 1 Axes>"
      ]
     },
     "metadata": {},
     "output_type": "display_data"
    }
   ],
   "source": [
    "import numpy as np\n",
    "import matplotlib.pyplot as plt\n",
    "\n",
    "\n",
    "# 各点の描画\n",
    "points = [(0, 0), (0, 1), (1, 0), (1, 1)]  # 真理値表の入力部分\n",
    "for point in points:\n",
    "    x1, x2 = point\n",
    "    y = OR(x1, x2)\n",
    "    # 実行結果が1ならを丸、それ以外を三角で表示\n",
    "    if y == 1:\n",
    "        marker = \"o\"\n",
    "    else:\n",
    "        marker = \"^\"\n",
    "    # 点を描画\n",
    "    plt.scatter(x1, x2, marker=marker, color=\"black\", s=100, label=f\"({x1}, {x2})\")\n",
    "\n",
    "\n",
    "# x軸y軸の描画\n",
    "plt.axhline(y=0, color=\"black\", linestyle=\"-\", linewidth=0.5)\n",
    "plt.axvline(x=0, color=\"black\", linestyle=\"-\", linewidth=0.5)\n",
    "\n",
    "# 0 = -0.5 + x1 + x2をプロット\n",
    "x1_plane = np.linspace(-2, 2, 100)\n",
    "x2_plane = 0.5 - x1_plane\n",
    "plt.plot(x1_plane, x2_plane, color=\"red\", label=\"0 = -0.5 + x1 + x2\")\n",
    "\n",
    "# タイトルとラベルを追加\n",
    "plt.xlabel(\"x1\")\n",
    "plt.ylabel(\"x2\")\n",
    "plt.xlim(-2, 2)\n",
    "plt.ylim(-2, 2)\n",
    "plt.title(\"直線-0.5 + x1 + x2 = 0とORゲート出力の関係\")\n",
    "plt.legend()  # 凡例を表示\n",
    "\n",
    "# 全体を表示\n",
    "plt.show()"
   ]
  },
  {
   "cell_type": "markdown",
   "metadata": {},
   "source": [
    "### XORゲートの視覚表現"
   ]
  },
  {
   "cell_type": "code",
   "execution_count": 67,
   "metadata": {},
   "outputs": [
    {
     "data": {
      "image/png": "[encoded data removed]",
      "text/plain": [
       "<Figure size 640x480 with 1 Axes>"
      ]
     },
     "metadata": {},
     "output_type": "display_data"
    }
   ],
   "source": [
    "import numpy as np\n",
    "import matplotlib.pyplot as plt\n",
    "import japanize_matplotlib\n",
    "\n",
    "# 1. x1 と x2 の値の範囲を定義\n",
    "x1 = np.linspace(-2, 2, 100)\n",
    "x2 = np.linspace(-2, 2, 100)\n",
    "\n",
    "# 各点の描画\n",
    "points = [(0, 0), (0, 1), (1, 0), (1, 1)]  # 真理値表の入力部分\n",
    "for point in points:\n",
    "    x1, x2 = point\n",
    "    y = XOR(x1, x2)\n",
    "    # 実行結果が1ならを丸、それ以外を三角で表示\n",
    "    if y == 1:\n",
    "        marker = \"o\"\n",
    "    else:\n",
    "        marker = \"^\"\n",
    "    # 点を描画\n",
    "    plt.scatter(x1, x2, marker=marker, color=\"black\", s=100, label=f\"({x1}, {x2})\")\n",
    "\n",
    "\n",
    "# x軸y軸の描画\n",
    "plt.axhline(y=0, color=\"black\", linestyle=\"-\", linewidth=0.5)\n",
    "plt.axvline(x=0, color=\"black\", linestyle=\"-\", linewidth=0.5)\n",
    "\n",
    "# タイトルとラベルを追加\n",
    "plt.xlabel(\"x1\")\n",
    "plt.ylabel(\"x2\")\n",
    "plt.xlim(-2, 2)\n",
    "plt.ylim(-2, 2)\n",
    "plt.title(\"XORゲートの視覚表現\")\n",
    "plt.legend()  # 凡例を表示\n",
    "\n",
    "# 全体を表示\n",
    "plt.show()"
   ]
  },
  {
   "cell_type": "markdown",
   "metadata": {},
   "source": [
    "### XORゲート"
   ]
  },
  {
   "cell_type": "code",
   "execution_count": 68,
   "metadata": {},
   "outputs": [
    {
     "name": "stdout",
     "output_type": "stream",
     "text": [
      "0|0|0\n",
      "0|1|1\n",
      "1|0|1\n",
      "1|1|0\n"
     ]
    }
   ],
   "source": [
    "def XOR(x1, x2):\n",
    "    s1 = NAND(x1, x2)\n",
    "    s2 = OR(x1, x2)\n",
    "    y = AND(s1, s2)\n",
    "    return y\n",
    "\n",
    "\n",
    "logic_test(XOR)"
   ]
  }
 ],
 "metadata": {
  "kernelspec": {
   "display_name": "dezero",
   "language": "python",
   "name": "python3"
  },
  "language_info": {
   "codemirror_mode": {
    "name": "ipython",
    "version": 3
   },
   "file_extension": ".py",
   "mimetype": "text/x-python",
   "name": "python",
   "nbconvert_exporter": "python",
   "pygments_lexer": "ipython3",
   "version": "3.12.4"
  }
 },
 "nbformat": 4,
 "nbformat_minor": 2
}
