{
 "cells": [
  {
   "cell_type": "markdown",
   "metadata": {},
   "source": [
    "# リストの復習"
   ]
  },
  {
   "cell_type": "code",
   "execution_count": 5,
   "metadata": {},
   "outputs": [
    {
     "name": "stdout",
     "output_type": "stream",
     "text": [
      "9 6 1 4 0\n",
      "[9, 6, 1, 4, 0]\n",
      "90 60 10 40 0\n",
      "[90, 60, 10, 40, 0]\n"
     ]
    }
   ],
   "source": [
    "# 変数によるデータ格納\n",
    "A = 9\n",
    "B = 6\n",
    "C = 1\n",
    "D = 4\n",
    "E = 0\n",
    "print(A, B, C, D, E)\n",
    "# リストによるデータ格納\n",
    "my_list = [9, 6, 1, 4, 0]\n",
    "print(my_list)\n",
    "# 例えばfor文ですべての変数に10をかけたい時\n",
    "\n",
    "# 変数のデータ構造では以下の通り\n",
    "ten = 10\n",
    "A = 9 * ten\n",
    "B = 6 * ten\n",
    "C = 1 * ten\n",
    "D = 4 * ten\n",
    "E = 0 * ten\n",
    "print(A, B, C, D, E)\n",
    "\n",
    "\n",
    "# listのデータ構造では以下の通り\n",
    "for i, tempalture in enumerate(my_list):\n",
    "    my_list[i] = tempalture * 10\n",
    "\n",
    "print(my_list)\n",
    "\n",
    "# 例えばデータの数が100個とかになると、listを使ったほうが効率的"
   ]
  },
  {
   "cell_type": "markdown",
   "metadata": {},
   "source": [
    "# Numpy配列の理解"
   ]
  },
  {
   "cell_type": "code",
   "execution_count": 19,
   "metadata": {},
   "outputs": [
    {
     "name": "stdout",
     "output_type": "stream",
     "text": [
      "[1. 2. 3.]\n",
      "[3. 6. 9.]\n",
      "[-1. -2. -3.]\n",
      "[ 2.  8. 18.]\n",
      "[0.5 0.5 0.5]\n",
      "[[1 2]\n",
      " [3 4]]\n",
      "(2, 2)\n",
      "int64\n",
      "[[ 4  2]\n",
      " [ 3 10]]\n",
      "[[-2  2]\n",
      " [ 3 -2]]\n",
      "[[ 3  0]\n",
      " [ 0 24]]\n",
      "[[10 40]\n",
      " [30 80]]\n",
      "[[51 52]\n",
      " [14 19]\n",
      " [ 0  4]]\n",
      "[51 52]\n",
      "[14 19]\n",
      "[0 4]\n"
     ]
    }
   ],
   "source": [
    "import numpy as np\n",
    "\n",
    "# 配列生成\n",
    "x = np.array([1.0, 2.0, 3.0])\n",
    "print(x)\n",
    "\n",
    "# 算術演算\n",
    "x = np.array([1.0, 2.0, 3.0])\n",
    "y = np.array([2.0, 4.0, 6.0])\n",
    "## 要素ごとの足し算\n",
    "print(x + y)\n",
    "\n",
    "## 引き算\n",
    "print(x - y)\n",
    "## 掛け算\n",
    "print(x * y)\n",
    "## 割り算\n",
    "print(x / y)\n",
    "\n",
    "# N次元配列\n",
    "A = np.array([1.0, 2.0, 3.0])\n",
    "A = np.array([[1, 2], [3, 4]])\n",
    "print(A)\n",
    "print(A.shape)  # 配列の形を出力\n",
    "print(A.dtype)  # 配列内で使われているデータ型を出力\n",
    "\n",
    "B = np.array([[3, 0], [0, 6]])\n",
    "## 演算\n",
    "print(A + B)\n",
    "print(A - B)\n",
    "print(A * B)\n",
    "\n",
    "\n",
    "# ブロードキャスト\n",
    "A = np.array([[1, 2], [3, 4]])\n",
    "B = np.array([10, 20])\n",
    "\n",
    "print(A * B)\n",
    "\n",
    "# 要素へのアクセス\n",
    "X = np.array([[51, 52], [14, 19], [0, 4]])\n",
    "print(X)\n",
    "## 行にアクセス\n",
    "for row in X:\n",
    "    print(row)\n",
    "## 不等号を用いたフィルタリング\n",
    "## flattenを使った1次元配列化"
   ]
  }
 ],
 "metadata": {
  "kernelspec": {
   "display_name": "dezero",
   "language": "python",
   "name": "python3"
  },
  "language_info": {
   "codemirror_mode": {
    "name": "ipython",
    "version": 3
   },
   "file_extension": ".py",
   "mimetype": "text/x-python",
   "name": "python",
   "nbconvert_exporter": "python",
   "pygments_lexer": "ipython3",
   "version": "3.12.4"
  }
 },
 "nbformat": 4,
 "nbformat_minor": 2
}
